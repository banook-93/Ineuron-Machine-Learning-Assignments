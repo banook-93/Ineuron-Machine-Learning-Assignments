{
 "cells": [
  {
   "cell_type": "markdown",
   "metadata": {},
   "source": [
    "# 1. What is the concept of human learning? Please give two examples."
   ]
  },
  {
   "cell_type": "markdown",
   "metadata": {},
   "source": [
    "Answer: All human learning is observing something (example: the occurrence of day and night) , identifying a pattern (For a fixed time period, we are exposed to light and heat of the sun, which we call day-time and then for another fixed period, we are deprived of light and heat. We call it as night time) , building a theory (model) to explain this pattern (Day/Night is a function of Rotation of Earth on its axis) and testing this theory to check if it fits in most or all observations."
   ]
  },
  {
   "cell_type": "markdown",
   "metadata": {},
   "source": [
    "# 2. What different forms of human learning are there? Are there any machine learning equivalents?"
   ]
  },
  {
   "cell_type": "markdown",
   "metadata": {},
   "source": [
    "Answer: 1. Operant Conditioning. The ML equivalent is Reinforcement Learning that  is inspired by the reward system of Operant Conditioning.\n",
    "2. Hebbian Learning. The ML equivalent is Artificial neural networks.\n",
    "3. Concept Learning. The ML equivalent is Supervised Learning."
   ]
  },
  {
   "cell_type": "markdown",
   "metadata": {},
   "source": [
    "# 3. What is machine learning, and how does it work? What are the key responsibilities of machine learning?"
   ]
  },
  {
   "cell_type": "markdown",
   "metadata": {},
   "source": [
    "Answer: Machine learning is a subfield of artificial intelligence that gives computers the ability to learn without explicitly being programmed. Data is the fuel of Machine Learning. Machine learning works by being fed past data as training and applying algorithm on the data so the model learns and predicts unseen data.Roles and responsibilities of a machine learning engineer are:\n",
    "\n",
    "Designing ML systems.\n",
    "Researching and implementing ML algorithms and tools. Selecting appropriate data sets.\n",
    "Picking appropriate data representation methods. Identifying differences in data distribution that affects model performance. Verifying data quality."
   ]
  },
  {
   "cell_type": "markdown",
   "metadata": {},
   "source": [
    "# 4. Define the terms \"penalty\"; and \"reward\"; in the context of reinforcement learning."
   ]
  },
  {
   "cell_type": "markdown",
   "metadata": {},
   "source": [
    "Answer: In the context of reinforcement learning, a penalty and reward are two types of feedback that an agent receives in response to its actions.\n",
    "A penalty (also known as a cost or a negative reward) is a form of feedback that the agent receives when it takes an action that is detrimental to acheiving its goal.Penalties serve to discourage the agent from taking actions that lead to poor outcomes.\n",
    "A reward (also known as a positive reward) is a form of feedback that the agent receives when it takes an action that is beneficial to achieving its goal. Rewards serve to encourage the agent to take actions that lead to good outcomes."
   ]
  },
  {
   "cell_type": "markdown",
   "metadata": {},
   "source": [
    "# 5. Explain the term \"learning as a search\"?"
   ]
  },
  {
   "cell_type": "markdown",
   "metadata": {},
   "source": [
    "Answer: In terms of machine learning, the concept learning (learning as a search) can be formulated as “Problem of searching through a predefined space of potential hypotheses for the hypothesis that best fits the training examples”-Tom Michell."
   ]
  },
  {
   "cell_type": "markdown",
   "metadata": {},
   "source": [
    "# 6. What are the various goals of machine learning? What is the relationship between these and human learning?"
   ]
  },
  {
   "cell_type": "markdown",
   "metadata": {},
   "source": [
    "Answer:The Goals of Machine Learning:\n",
    "To develop intelligent systems (programs) for specific practical learning tasks in application domains.The relationship with human learning is that to develop computational models of human learning process and perform computer simulations."
   ]
  },
  {
   "cell_type": "markdown",
   "metadata": {},
   "source": [
    "# 7. Illustrate the various elements of machine learning using a real-life illustration."
   ]
  },
  {
   "cell_type": "markdown",
   "metadata": {},
   "source": [
    "Answer: Machine learning is behind chatbots and predictive text, language translation apps, the shows Netflix suggests to you, and how your social media feeds are presented. It powers autonomous vehicles and machines that can diagnose medical conditions based on images. "
   ]
  },
  {
   "cell_type": "markdown",
   "metadata": {},
   "source": [
    "# 8. Provide an example of the abstraction method."
   ]
  },
  {
   "cell_type": "markdown",
   "metadata": {},
   "source": [
    "Answer: Abstraction is a method of simplifying the representation of a problem which allows that problem to be solved more efficiently (using less memory and/or less computation). Examples of data abstraction are:\n",
    "\n",
    "1.Reducing spatial/temporal resolution.\n",
    "2.Discretise continuous variables into important goal-oriented ranges.\n",
    "3.Classify patterns by discrete labels."
   ]
  },
  {
   "cell_type": "markdown",
   "metadata": {},
   "source": [
    "# 9. What is the concept of generalization? What function does it play in the machine learning process?"
   ]
  },
  {
   "cell_type": "markdown",
   "metadata": {},
   "source": [
    "Answer: For a machine learning model, generalization means that a well performing model trained on a limited sample of training data, can still perform well on futuristic, unseen data drawn from the same distribution of the training data."
   ]
  },
  {
   "cell_type": "markdown",
   "metadata": {},
   "source": [
    "# Q:10 What is classification, exactly? What are the main distinctions between classification and regression?"
   ]
  },
  {
   "cell_type": "markdown",
   "metadata": {},
   "source": [
    "Answer: Classification is machine learning supervised approach in which the ML algorithms learns from the data input given to it and then utilize this learning to classify the new data for accurate observation and prediction.\n",
    "In a regression problem, we are trying to predict results within a continuous output, i.e. we are trying to map input variables to some continuous function. In a classification problem, we are instead trying to predict results in a discrete output."
   ]
  },
  {
   "cell_type": "markdown",
   "metadata": {},
   "source": [
    "# 11. What is regression, and how does it work? Give an example of a real-world problem that was solved using regression."
   ]
  },
  {
   "cell_type": "markdown",
   "metadata": {},
   "source": [
    "Answer: Regression analysis helps one to gain understanding that how the typical value of the dependent variable changes when any one of the independent variables is varied. A regression model is built using an algorithm to reduce prediction errors. \n",
    "It is widely used for prediction and forecasting (weather forecasting). "
   ]
  },
  {
   "cell_type": "markdown",
   "metadata": {},
   "source": [
    "# Q:12. Describe the clustering mechanism in detail?"
   ]
  },
  {
   "cell_type": "markdown",
   "metadata": {},
   "source": [
    "Answer: Clustering is used to discover pattern in unlabeled data. It’s the most common form of unsupervised learning. Given a dataset you don’t know anything about, a clustering algorithm can find groups of objects where the average distances between the members of each cluster are closer than to members in other clusters."
   ]
  },
  {
   "cell_type": "markdown",
   "metadata": {},
   "source": [
    "# 13. Make brief observations on two of the following topics ?\n",
    "1.Machine learning algorithms are used, \n",
    "2.Studying under supervision, \n",
    "3.Studying without supervision, \n",
    "4.Reinforcement learning is a form of learning based on positive reinforcement."
   ]
  },
  {
   "cell_type": "markdown",
   "metadata": {},
   "source": [
    "Answer: 1. Machine Learning algorithms are used:  Machine learning algorithms are used in a wide variety of applications, including image recognition, natural language processing, predictive analytics, and self-driving cars. They are designed to automatically learn from data and improve their performance over time. These algorithms are based on mathematical models and statistical techniques that enable them to identify patterns and make predictions or decisions without being explicitly programmed to do so."
   ]
  },
  {
   "cell_type": "markdown",
   "metadata": {},
   "source": [
    "2. Studying without supervision, also known as self-study, is a method of learning where individuals take responsibility for their own learning and progress. This approach allows for more flexibility in terms of pace, location, and curriculum, and can be beneficial for individuals who are highly motivated and self-disciplined. However, it can also be challenging as it requires a great deal of self-motivation and self-direction, and may not be suitable for everyone. Additionally, the lack of direct guidance and feedback from a teacher or mentor can make it difficult to identify and correct mistakes or gaps in understanding."
   ]
  },
  {
   "cell_type": "code",
   "execution_count": null,
   "metadata": {},
   "outputs": [],
   "source": []
  }
 ],
 "metadata": {
  "kernelspec": {
   "display_name": "Python 3",
   "language": "python",
   "name": "python3"
  },
  "language_info": {
   "codemirror_mode": {
    "name": "ipython",
    "version": 3
   },
   "file_extension": ".py",
   "mimetype": "text/x-python",
   "name": "python",
   "nbconvert_exporter": "python",
   "pygments_lexer": "ipython3",
   "version": "3.8.5"
  }
 },
 "nbformat": 4,
 "nbformat_minor": 4
}
