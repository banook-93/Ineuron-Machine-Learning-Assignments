{
 "cells": [
  {
   "cell_type": "markdown",
   "metadata": {},
   "source": [
    "# 1. What are the key tasks involved in getting ready to work with machine learning modeling?"
   ]
  },
  {
   "cell_type": "markdown",
   "metadata": {},
   "source": [
    "Answer: \n",
    "1. Define the problem and set clear goals.\n",
    "2. Gather and preprocess the data.\n",
    "3. Split the data into training and evaluation sets.\n",
    "4. Select an appropriate algorithm or model architecture.\n",
    "5. Train the model.\n",
    "6. Evaluate and validate the model.\n",
    "7. Fine-tune and optimize the model.\n",
    "8.Deploy the model.\n",
    "10.Monitor and maintain the model."
   ]
  },
  {
   "cell_type": "markdown",
   "metadata": {},
   "source": [
    "# 2. What are the different forms of data used in machine learning? Give a specific example for each of\n",
    "them."
   ]
  },
  {
   "cell_type": "markdown",
   "metadata": {},
   "source": [
    "Answer: The different forms of data used in machine learning are:\n",
    "\n",
    "1.Numerical Data (e.g., housing prices dataset)\n",
    "\n",
    "2.Categorical Data (e.g., customer segmentation dataset)\n",
    "\n",
    "3.Text Data (e.g., sentiment analysis of customer reviews)\n",
    "\n",
    "4.Image Data (e.g., object recognition in images)\n",
    "\n",
    "5.Time Series Data (e.g., stock market data)\n",
    "\n",
    "6.Audio Data (e.g., voice command recognition)"
   ]
  },
  {
   "cell_type": "markdown",
   "metadata": {},
   "source": [
    "# 3. Distinguish: a: Numeric vs. categorical attributes:"
   ]
  },
  {
   "cell_type": "markdown",
   "metadata": {},
   "source": [
    "Answer: Numeric Attributes: Numeric attributes represent data that is measured on a continuous or discrete numerical scale.\n",
    "        \n",
    "Categorical Attributes: Categorical attributes represent data that falls into specific categories or groups."
   ]
  },
  {
   "cell_type": "markdown",
   "metadata": {},
   "source": [
    "# b. Feature selection vs. dimensionality reduction"
   ]
  },
  {
   "cell_type": "markdown",
   "metadata": {},
   "source": [
    "Feature selection:\n",
    "\n",
    "Selecting relevant features from the original set.\n",
    "Goal: Identify important features for the model.\n",
    "Benefits: Improved interpretability, reduced overfitting.\n",
    "Methods: Filter, wrapper, and embedded approaches.\n",
    "    \n",
    "    \n",
    "Dimensionality reduction:\n",
    "\n",
    "Reducing the number of dimensions in data.\n",
    "Goal: Preserve important information.\n",
    "Benefits: Address curse of dimensionality, computational efficiency.\n",
    "Techniques: Linear methods (e.g., PCA), nonlinear methods (e.g., t-SNE), autoencoders"
   ]
  },
  {
   "cell_type": "markdown",
   "metadata": {},
   "source": [
    "# 4: Make quick notes on any two of the following: 1. Histogram 2. Scatterplot 3. Principal Component Analysis"
   ]
  },
  {
   "cell_type": "markdown",
   "metadata": {},
   "source": [
    "Histogram is a graphical representation of data distribution.\n",
    "\n",
    "It shows the count or frequency of values within predefined bins.\n",
    "\n",
    "Useful for understanding data shape, central tendency, and variability.\n",
    "\n",
    "Helps identify patterns and outliers.\n",
    "\n",
    "Can be customized by adjusting bin size and adding additional information"
   ]
  },
  {
   "cell_type": "markdown",
   "metadata": {},
   "source": [
    "Scatterplot:"
   ]
  },
  {
   "cell_type": "markdown",
   "metadata": {},
   "source": [
    "Scatter plot is a type of data visualization that displays individual data points as dots on a two-dimensional plane.\n",
    "\n",
    "It shows the relationship or correlation between two numerical variables.\n",
    "\n",
    "Each dot represents a data point with its x and y coordinates determined by the respective variables.\n",
    "\n",
    "Useful for identifying patterns, trends, clusters, or outliers in the data.\n",
    "\n",
    "Can indicate the strength and direction of the relationship between variables.\n",
    "\n",
    "Provides a visual representation of data distribution and allows for easy comparison between variables."
   ]
  },
  {
   "cell_type": "markdown",
   "metadata": {},
   "source": [
    "# 5. Why is it necessary to investigate data? Is there a discrepancy in how qualitative and quantitative data are explored?"
   ]
  },
  {
   "cell_type": "markdown",
   "metadata": {},
   "source": [
    "Answer: Investigating data is necessary to uncover patterns, trends, and insights that can inform decision-making and problem-solving. It helps to understand the underlying relationships and characteristics of the data.\n",
    "\n",
    "Qualitative and quantitative data exploration can differ in their approaches. Qualitative data exploration often involves analyzing themes, patterns, and narratives through techniques like coding and thematic analysis. Quantitative data exploration focuses on statistical analysis, measures of central tendency, and data visualization to identify patterns and trends numerically. However, both approaches aim to extract meaningful information from the data.\n",
    "\n",
    "\n",
    "\n",
    "\n",
    "\n",
    "\n"
   ]
  },
  {
   "cell_type": "markdown",
   "metadata": {},
   "source": [
    "# 6. What are the various histogram shapes? What exactly are ‘bins&#39;?"
   ]
  },
  {
   "cell_type": "markdown",
   "metadata": {},
   "source": [
    "Various histogram shapes include:\n",
    "\n",
    "Uniform: Data is evenly distributed across all bins, forming a flat histogram.\n",
    "Bell-shaped (Gaussian or normal distribution): Data clusters around the mean, creating a symmetric, bell-shaped histogram.\n",
    "Skewed: Data is concentrated towards one tail of the distribution, resulting in a skewed histogram (either positively or negatively skewed).\n",
    "Bins in a histogram represent intervals or ranges into which the data is divided. Each bin represents a specific value range, and the height of each bin corresponds to the frequency or count of data points falling within that range. "
   ]
  },
  {
   "cell_type": "markdown",
   "metadata": {},
   "source": [
    "# 7. How do we deal with data outliers?"
   ]
  },
  {
   "cell_type": "markdown",
   "metadata": {},
   "source": [
    "To deal with data outliers, you can consider the following approaches:\n",
    "\n",
    "Identify and remove outliers: Use statistical methods such as z-scores or the interquartile range (IQR) to identify observations that fall significantly outside the normal range, and then remove or adjust those outliers."
   ]
  },
  {
   "cell_type": "markdown",
   "metadata": {},
   "source": [
    "# 8. What are the various central inclination measures? Why does mean vary too much from median in certain data sets?"
   ]
  },
  {
   "cell_type": "markdown",
   "metadata": {},
   "source": [
    "The various central inclination measures include:\n",
    "\n",
    "Mean: The average of a set of values, calculated by summing all values and dividing by the number of observations.\n",
    "\n",
    "Median: The middle value in a sorted dataset, dividing it into two equal halves.\n",
    "\n",
    "The mean can vary significantly from the median in certain datasets due to the presence of outliers or skewed distributions. This is because the mean is influenced by extreme values, pulling it towards the tails of the distribution, while the median is more resistant to the impact of outliers and represents the central value of the dataset."
   ]
  },
  {
   "cell_type": "markdown",
   "metadata": {},
   "source": [
    "# 9. Describe how a scatter plot can be used to investigate bivariate relationships. Is it possible to find outliers using a scatter plot?"
   ]
  },
  {
   "cell_type": "markdown",
   "metadata": {},
   "source": [
    "Scatter plots visually represent the relationship between two variables by plotting individual data points as dots on a graph.\n",
    "\n",
    "They help identify patterns, trends, and the strength of the relationship between the variables.\n",
    "\n",
    "Outliers can be identified by observing data points that deviate significantly from the general pattern or trend in the scatter plot."
   ]
  },
  {
   "cell_type": "markdown",
   "metadata": {},
   "source": [
    "# 10. Describe how cross-tabs can be used to figure out how two variables are related."
   ]
  },
  {
   "cell_type": "markdown",
   "metadata": {},
   "source": [
    "Cross-tabs, or cross-tabulations, can be used to analyze the relationship between two variables by presenting their joint distribution in a tabular format."
   ]
  },
  {
   "cell_type": "code",
   "execution_count": null,
   "metadata": {},
   "outputs": [],
   "source": []
  }
 ],
 "metadata": {
  "kernelspec": {
   "display_name": "Python 3",
   "language": "python",
   "name": "python3"
  },
  "language_info": {
   "codemirror_mode": {
    "name": "ipython",
    "version": 3
   },
   "file_extension": ".py",
   "mimetype": "text/x-python",
   "name": "python",
   "nbconvert_exporter": "python",
   "pygments_lexer": "ipython3",
   "version": "3.8.5"
  }
 },
 "nbformat": 4,
 "nbformat_minor": 4
}
